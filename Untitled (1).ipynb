{
 "cells": [
  {
   "cell_type": "code",
   "execution_count": 3,
   "id": "103de44c-a02e-4a18-8c0b-ac0959ddb5f2",
   "metadata": {},
   "outputs": [],
   "source": [
    "import pandas as pd\n",
    "course_name = ['Data Science', 'Machine Learning', 'Big Data', 'Data Engineer']\n",
    "duration = [2,3,6,4]\n",
    "df = pd.DataFrame(data = {'course_name' : course_name, 'duration' : duration})"
   ]
  },
  {
   "cell_type": "markdown",
   "id": "2adff55e-2204-449d-b360-e7d7ea95b999",
   "metadata": {},
   "source": [
    "# Question 1 \n",
    "Q1. Write a code to print the data present in the second row of the dataframe, df.\n",
    "\n",
    "# Answer "
   ]
  },
  {
   "cell_type": "code",
   "execution_count": 9,
   "id": "a62cb13f-9f35-4606-9179-798c119a3e2f",
   "metadata": {},
   "outputs": [
    {
     "data": {
      "text/html": [
       "<div>\n",
       "<style scoped>\n",
       "    .dataframe tbody tr th:only-of-type {\n",
       "        vertical-align: middle;\n",
       "    }\n",
       "\n",
       "    .dataframe tbody tr th {\n",
       "        vertical-align: top;\n",
       "    }\n",
       "\n",
       "    .dataframe thead th {\n",
       "        text-align: right;\n",
       "    }\n",
       "</style>\n",
       "<table border=\"1\" class=\"dataframe\">\n",
       "  <thead>\n",
       "    <tr style=\"text-align: right;\">\n",
       "      <th></th>\n",
       "      <th>course_name</th>\n",
       "      <th>duration</th>\n",
       "    </tr>\n",
       "  </thead>\n",
       "  <tbody>\n",
       "    <tr>\n",
       "      <th>0</th>\n",
       "      <td>Data Science</td>\n",
       "      <td>2</td>\n",
       "    </tr>\n",
       "    <tr>\n",
       "      <th>1</th>\n",
       "      <td>Machine Learning</td>\n",
       "      <td>3</td>\n",
       "    </tr>\n",
       "    <tr>\n",
       "      <th>2</th>\n",
       "      <td>Big Data</td>\n",
       "      <td>6</td>\n",
       "    </tr>\n",
       "    <tr>\n",
       "      <th>3</th>\n",
       "      <td>Data Engineer</td>\n",
       "      <td>4</td>\n",
       "    </tr>\n",
       "  </tbody>\n",
       "</table>\n",
       "</div>"
      ],
      "text/plain": [
       "        course_name  duration\n",
       "0      Data Science         2\n",
       "1  Machine Learning         3\n",
       "2          Big Data         6\n",
       "3     Data Engineer         4"
      ]
     },
     "execution_count": 9,
     "metadata": {},
     "output_type": "execute_result"
    }
   ],
   "source": [
    "df"
   ]
  },
  {
   "cell_type": "code",
   "execution_count": 23,
   "id": "e47e31ab-56f0-452f-b2a7-55d1afa20e6b",
   "metadata": {},
   "outputs": [
    {
     "data": {
      "text/plain": [
       "A     2\n",
       "B     6\n",
       "C    10\n",
       "Name: 1, dtype: int64"
      ]
     },
     "execution_count": 23,
     "metadata": {},
     "output_type": "execute_result"
    }
   ],
   "source": [
    "df.loc[1]"
   ]
  },
  {
   "cell_type": "markdown",
   "id": "b0095311-1b5d-43f1-9d0c-0f210007620f",
   "metadata": {},
   "source": [
    "# Question 2\n",
    "Q2. What is the difference between the functions loc and iloc in pandas.DataFrame?\n",
    "# Answer"
   ]
  },
  {
   "cell_type": "markdown",
   "id": "31988f37-a1c7-4e07-a758-0840ee0a60c6",
   "metadata": {},
   "source": [
    "loc - It only get label i.e column name or Features\n",
    "\n",
    "iloc - Here i stands for integer, actually row number"
   ]
  },
  {
   "cell_type": "markdown",
   "id": "5b959e37-2b2f-4f85-8b0e-f7597290b304",
   "metadata": {},
   "source": [
    "# question 3\n",
    "Q3. Reindex the given dataframe using a variable, reindex = [3,0,1,2] and store it in the variable, new_df\n",
    "then find the output for both new_df.loc[2] and new_df.iloc[2].\n",
    "# Answer"
   ]
  },
  {
   "cell_type": "code",
   "execution_count": 19,
   "id": "25706a8f-7ec7-4546-a122-035455617058",
   "metadata": {},
   "outputs": [
    {
     "name": "stdout",
     "output_type": "stream",
     "text": [
      "   A  B   C\n",
      "3  4  8  12\n",
      "0  1  5   9\n",
      "1  2  6  10\n",
      "2  3  7  11\n"
     ]
    }
   ],
   "source": [
    "reindex = [3, 0, 1, 2]\n",
    "new_df = df.reindex(reindex)\n",
    "print(new_df)"
   ]
  },
  {
   "cell_type": "code",
   "execution_count": 20,
   "id": "221586ec-bdd8-4e28-ad02-275b42729016",
   "metadata": {},
   "outputs": [
    {
     "name": "stdout",
     "output_type": "stream",
     "text": [
      "A     3\n",
      "B     7\n",
      "C    11\n",
      "Name: 2, dtype: int64\n",
      "A     2\n",
      "B     6\n",
      "C    10\n",
      "Name: 1, dtype: int64\n"
     ]
    }
   ],
   "source": [
    "print(new_df.loc[2])\n",
    "print(new_df.iloc[2])"
   ]
  },
  {
   "cell_type": "markdown",
   "id": "e220a121-b850-4d85-9ebb-81dd35178d45",
   "metadata": {},
   "source": [
    " # Question 3 2ndPart\n",
    " Did you observe any difference in both the outputs? If so then explain it.\n"
   ]
  },
  {
   "cell_type": "markdown",
   "id": "bad8c4fa-bff0-4e20-b07d-ab0a7217feba",
   "metadata": {},
   "source": [
    "Yes, there is a difference between the output of new_df.loc[2] and new_df.iloc[2].\n",
    "new_df.loc[2] returns the row with the index label 2. After reindexing, the row with index label 2 corresponds to the row that was originally at index position 1 in the original DataFrame.\n",
    "Therefore, new_df.loc[2] returns the values from the row that was originally at index position 1 in the original DataFrame, but now has index label 2 in the reindexed DataFrame.\n",
    "On the other hand, new_df.iloc[2] returns the row with the index position 2. After reindexing, the row with index position 2 corresponds to the row that was originally at index position 1 in the original DataFrame.\n",
    "Therefore, new_df.iloc[2] returns the values from the row that was originally at index position 1 in the original DataFrame, but now has index position 2 in the reindexed DataFrame.\n",
    "In summary, new_df.loc[2] uses the index label to select a row, while new_df.iloc[2] uses the index position to select a row."
   ]
  },
  {
   "cell_type": "markdown",
   "id": "361b9341-9efe-49e8-9721-43234c823a3a",
   "metadata": {},
   "source": [
    "# Consider the below code to answer further questions:"
   ]
  },
  {
   "cell_type": "code",
   "execution_count": 24,
   "id": "132365b8-e94c-43a9-8651-898da06b1ccf",
   "metadata": {},
   "outputs": [],
   "source": [
    "import pandas as pd\n",
    "import numpy as np\n",
    "columns = ['column_1', 'column_2', 'column_3', 'column_4', 'column_5', 'column_6']\n",
    "indices = [1,2,3,4,5,6]\n",
    "#Creating a dataframe:\n",
    "df1 = pd.DataFrame(np.random.rand(6,6), columns = columns, index = indices)"
   ]
  },
  {
   "cell_type": "markdown",
   "id": "a45375f2-ef1f-448c-a5a1-4728849f7c86",
   "metadata": {},
   "source": [
    "# question 4 \n",
    "Q4. Write a code to find the following statistical measurements for the above dataframe df1:\n",
    "(i) mean of each and every column present in the dataframe.\n",
    "(ii) standard deviation of column, ‘column_2’\n",
    "# Answer "
   ]
  },
  {
   "cell_type": "code",
   "execution_count": 26,
   "id": "6690e42d-47e4-40f5-9abe-88de64da7315",
   "metadata": {},
   "outputs": [
    {
     "data": {
      "text/plain": [
       "column_1    0.643098\n",
       "column_2    0.565027\n",
       "column_3    0.447348\n",
       "column_4    0.404786\n",
       "column_5    0.556636\n",
       "column_6    0.413463\n",
       "dtype: float64"
      ]
     },
     "execution_count": 26,
     "metadata": {},
     "output_type": "execute_result"
    }
   ],
   "source": [
    "# (i)\n",
    "df1.mean()"
   ]
  },
  {
   "cell_type": "code",
   "execution_count": 27,
   "id": "6c1608df-c38d-4bda-8555-53a7e3e096b9",
   "metadata": {},
   "outputs": [
    {
     "data": {
      "text/plain": [
       "0.40602828909887867"
      ]
     },
     "execution_count": 27,
     "metadata": {},
     "output_type": "execute_result"
    }
   ],
   "source": [
    "# (ii)\n",
    "df1['column_2'].std()"
   ]
  },
  {
   "cell_type": "markdown",
   "id": "83ede011-44aa-4392-9102-e11750d70276",
   "metadata": {},
   "source": [
    "# question 5 \n",
    "Q5. Replace the data present in the second row of column, ‘column_2’ by a string variable then find the\n",
    "mean of column, column_2.\n",
    "If you are getting errors in executing it then explain why.\n",
    "# Answer "
   ]
  },
  {
   "cell_type": "markdown",
   "id": "a03c1247-9995-403b-9222-2c0b37b99813",
   "metadata": {},
   "source": [
    "It is not possible to replace the numeric data in a pandas dataframe column with a string variable.\n",
    "This will result in a TypeError because the mean function cannot be calculated on a column with mixed data types.\n",
    "If you want to replace the data in the second row of 'column_2' with a string, you can do so by assigning the value to the specific location using the .loc method as follows:\n",
    "df1.loc[2, 'column_2'] = 'string'\n",
    "This will replace the value in the second row and column_2 with 'string'.\n",
    "However, as mentioned before, it is not possible to calculate the mean of column_2 as it now contains mixed data types. Instead,\n",
    "you can convert the column to a numeric data type using the pd.to_numeric() function and then calculate the mean as follows:"
   ]
  },
  {
   "cell_type": "markdown",
   "id": "6eab2c57-838a-4c5a-8017-cf4c9ff7b6dd",
   "metadata": {},
   "source": [
    "# question 6\n",
    "Q6. What do you understand about the windows function in pandas and list the types of windows\n",
    "functions?\n",
    "# Answer "
   ]
  },
  {
   "cell_type": "markdown",
   "id": "2fb0869c-e5cb-4ffe-a0a9-361a8b57ff8d",
   "metadata": {},
   "source": [
    "In pandas, a window function is a function that operates on a set of rows (i.e., a window) of a DataFrame or Series, returning a new value for each row based on its position in the window. \n",
    "There are various types of window functions in pandas, including:\n",
    "1.Rolling window functions\n",
    "2.Expanding window function\n",
    "3.Exponentially weighted window functions\n",
    "4.Cumulative window functions\n",
    "5.User-defined window functions"
   ]
  },
  {
   "cell_type": "markdown",
   "id": "c7a221e1-4879-4510-b3b8-6d330bcc1844",
   "metadata": {},
   "source": [
    "# question 7\n",
    "Q7. Write a code to print only the current month and year at the time of answering this question.\n",
    "# Answer "
   ]
  },
  {
   "cell_type": "code",
   "execution_count": 5,
   "id": "b83a401f-9cf0-4b90-aa13-ae08bcf0867a",
   "metadata": {},
   "outputs": [
    {
     "name": "stdout",
     "output_type": "stream",
     "text": [
      "Current month and year: March 2023\n"
     ]
    }
   ],
   "source": [
    "import datetime\n",
    "# get current date and time\n",
    "now = datetime.datetime.now()\n",
    "# print the current month and year\n",
    "print(\"Current month and year:\", now.strftime(\"%B %Y\"))"
   ]
  },
  {
   "cell_type": "markdown",
   "id": "380f53bb-106a-4f2f-aa93-2d23c62a8c5e",
   "metadata": {},
   "source": [
    "Q8. Write a Python program that takes in two dates as input (in the format YYYY-MM-DD) and\n",
    "calculates the difference between them in days, hours, and minutes using Pandas time delta.\n",
    "The program should prompt the user to enter the dates and display the result.\n",
    "import pandas as pd|"
   ]
  },
  {
   "cell_type": "code",
   "execution_count": null,
   "id": "634fce9d-d706-4ad3-b293-6d016a631e55",
   "metadata": {},
   "outputs": [],
   "source": [
    "import pandas as pd\n",
    "# Get the two dates as input from the user\n",
    "date1_str = input(\"Enter the first date (YYYY-MM-DD): \")\n",
    "date2_str = input(\"Enter the second date (YYYY-MM-DD): \")\n",
    "# Convert the input strings to pandas datetime objects\n",
    "date1 = pd.to_datetime(date1_str)\n",
    "date2 = pd.to_datetime(date2_str)\n",
    "# Calculate the difference between the two dates using pandas time delta\n",
    "delta = date2 - date1\n",
    "# Extract the number of days, hours, and minutes from the delta object\n",
    "days = delta.days\n",
    "hours = delta.seconds // 3600\n",
    "minutes = (delta.seconds % 3600) // 60\n",
    "# Display the result\n",
    "print(\"The difference between\", date1_str, \"and\", date2_str, \"is\", days, \"days,\", hours, \"hours, and\", minutes, \"minutes.\")"
   ]
  },
  {
   "cell_type": "markdown",
   "id": "8b53e4ed-8d5a-4c04-8f62-ca70f9d8e650",
   "metadata": {},
   "source": [
    "Q9. Write a Python program that reads a CSV file containing categorical data and converts a specified column to a categorical data type.\n",
    "The program should prompt the user to enter the file path, column name, and category order, and then display the sorted data."
   ]
  },
  {
   "cell_type": "code",
   "execution_count": null,
   "id": "b1b1a8f7-1561-4907-b61d-8761efaad9af",
   "metadata": {},
   "outputs": [],
   "source": [
    "import pandas as pd\n",
    "\n",
    "# Prompt user for file path\n",
    "file_path = input(\"Enter file path: \")\n",
    "\n",
    "# Read CSV file\n",
    "df = pd.read_csv(file_path)\n",
    "\n",
    "# Prompt user for column name\n",
    "column_name = input(\"Enter column name: \")\n",
    "\n",
    "# Prompt user for category order\n",
    "categories = input(\"Enter category order separated by comma: \")\n",
    "categories = [cat.strip() for cat in categories.split(\",\")]\n",
    "\n",
    "# Convert column to categorical data type\n",
    "df[column_name] = pd.Categorical(df[column_name], categories=categories, ordered=True)\n",
    "\n",
    "# Sort by the categorical column\n",
    "df_sorted = df.sort_values(by=column_name)\n",
    "\n",
    "# Display sorted data\n",
    "print(df_sorted)"
   ]
  },
  {
   "cell_type": "markdown",
   "id": "9f7fb104-e436-4734-97da-58bf89d565ef",
   "metadata": {},
   "source": [
    "# question 10 \n",
    "Q10. Write a Python program that reads a CSV file containing sales data for different products and visualizes the data using a stacked bar chart to show the sales of each product category over time. The\n",
    "program should prompt the user to enter the file path and display the chart.\n",
    "# Answer "
   ]
  },
  {
   "cell_type": "code",
   "execution_count": null,
   "id": "adb45ca3-871a-4cdf-9563-49c805597e0b",
   "metadata": {},
   "outputs": [],
   "source": [
    "import pandas as pd\n",
    "import matplotlib.pyplot as plt\n",
    "\n",
    "# Prompt user for file path\n",
    "file_path = input(\"Enter file path: \")\n",
    "\n",
    "# Load CSV file into a pandas dataframe\n",
    "df = pd.read_csv(file_path)\n",
    "\n",
    "# Pivot the dataframe to get total sales for each product category by year\n",
    "df_pivot = pd.pivot_table(df, values='Sales', index='Year', columns='Category', aggfunc=sum)\n",
    "\n",
    "# Create stacked bar chart\n",
    "ax = df_pivot.plot(kind='bar', stacked=True)\n",
    "\n",
    "# Set chart title and axis labels\n",
    "ax.set_title('Product Sales by Category')\n",
    "ax.set_xlabel('Year')\n",
    "ax.set_ylabel('Total Sales')\n",
    "\n",
    "# Display chart\n",
    "plt.show()"
   ]
  },
  {
   "cell_type": "markdown",
   "id": "7e513c67-8f35-450f-8ce9-31bc4b5442e3",
   "metadata": {},
   "source": [
    "# Question 11\n",
    "Q11. You are given a CSV file containing student data that includes the student ID and their test score. Write a Python program that reads the CSV file, calculates the mean, median, and mode of the test scores, and displays the results in a table. The program should do the followingM I Prompt the user to enter the file path of the CSV file containing the student dataR I Read the CSV file into a Pandas DataFrameR I Calculate the mean, median, and mode of the test scores using Pandas toolsR I Display the mean, median, and mode in a table. Assume the CSV file contains the following columnsM I Student ID: The ID of the studentR I Test Score: The score of the student's test. Example usage of the program: Enter the file path of the CSV file containing the student data: student_data.csv +-----------+--------+ | Statistic | Value | +-----------+--------+ | Mean | 79.6 | | Median | 82 | | Mode | 85, 90 | +-----------+--------+ Assume that the CSV file student_data.csv contains the following data: Student ID,Test Score 1,85 2,90 3,80 4,75 5,85 6,82 7,78 8,85 9,90 10,85 The program should calculate the mean, median, and mode of the test scores and display the results in a table."
   ]
  },
  {
   "cell_type": "code",
   "execution_count": null,
   "id": "e83d1d80-a214-4c71-88ee-21e2d63f7856",
   "metadata": {},
   "outputs": [],
   "source": [
    "import pandas as pd\n",
    "\n",
    "# Prompt user for file path\n",
    "file_path = input(\"Enter file path: \")\n",
    "\n",
    "# Load CSV file into a pandas dataframe\n",
    "df = pd.read_csv(file_path)\n",
    "\n",
    "# Calculate mean, median, and mode of test scores\n",
    "mean_score = df['Score'].mean()\n",
    "median_score = df['Score'].median()\n",
    "mode_score = df['Score'].mode().values[0]\n",
    "\n",
    "# Create a dataframe to display results\n",
    "results = pd.DataFrame({'Statistic': ['Mean', 'Median', 'Mode'],\n",
    "                        'Score': [mean_score, median_score, mode_score]})\n",
    "\n",
    "# Display results\n",
    "print(results)"
   ]
  },
  {
   "cell_type": "code",
   "execution_count": null,
   "id": "bfc38207-af5b-4409-88a3-ae08ef2953fa",
   "metadata": {},
   "outputs": [],
   "source": []
  },
  {
   "cell_type": "code",
   "execution_count": null,
   "id": "02733496-205f-420c-9276-66cf6509c20a",
   "metadata": {},
   "outputs": [],
   "source": []
  },
  {
   "cell_type": "code",
   "execution_count": null,
   "id": "d23f1d90-98d2-42de-887f-1c0c45932a51",
   "metadata": {},
   "outputs": [],
   "source": []
  },
  {
   "cell_type": "code",
   "execution_count": null,
   "id": "95433f23-241c-41b2-97dc-48e7c23d0ec6",
   "metadata": {},
   "outputs": [],
   "source": []
  },
  {
   "cell_type": "code",
   "execution_count": null,
   "id": "7e233fe0-b2be-4f08-9433-117d950cabc4",
   "metadata": {},
   "outputs": [],
   "source": []
  },
  {
   "cell_type": "code",
   "execution_count": null,
   "id": "a35b03d9-b48a-46a0-ab17-1232de114c7f",
   "metadata": {},
   "outputs": [],
   "source": []
  }
 ],
 "metadata": {
  "kernelspec": {
   "display_name": "Python 3 (ipykernel)",
   "language": "python",
   "name": "python3"
  },
  "language_info": {
   "codemirror_mode": {
    "name": "ipython",
    "version": 3
   },
   "file_extension": ".py",
   "mimetype": "text/x-python",
   "name": "python",
   "nbconvert_exporter": "python",
   "pygments_lexer": "ipython3",
   "version": "3.10.8"
  }
 },
 "nbformat": 4,
 "nbformat_minor": 5
}
